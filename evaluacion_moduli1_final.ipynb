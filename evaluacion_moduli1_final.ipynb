{
 "cells": [
  {
   "cell_type": "code",
   "execution_count": null,
   "metadata": {},
   "outputs": [],
   "source": [
    "# Creación de la Tienda Online utilizando clases\n",
    "\n",
    "class TiendaOnline :\n",
    "\n",
    "    #Atributos de la clase\n",
    "    def __init__(self,inventario, clientes,ventas_totales):\n",
    "        \n",
    "        # Atributo inventario, lista de diccionarios vacias con 3 keys\n",
    "        inventario = [{'nombre':0,'precio':0,'cantidad':0 },{'nombre':0,'precio':0,'cantidad':0 }]\n",
    "        self.inventario = inventario\n",
    "\n",
    "        # Atributo clientes, diccionario 2 keys\n",
    "        clientes= {'nombre':0,'email':0}\n",
    "        self.clientes = clientes\n",
    "\n",
    "        #Atributo ventas totales \n",
    "        ventas_totales=0\n",
    "        self.ventas_totales = ventas_totales\n",
    "\n",
    "    \n",
    "\n"
   ]
  },
  {
   "cell_type": "code",
   "execution_count": null,
   "metadata": {},
   "outputs": [],
   "source": [
    "[{'nombre':0,'precio':0,'cantidad':0 },{'nombre':0,'precio':0,'cantidad':0 }]"
   ]
  }
 ],
 "metadata": {
  "kernelspec": {
   "display_name": "base",
   "language": "python",
   "name": "python3"
  },
  "language_info": {
   "name": "python",
   "version": "3.12.4"
  }
 },
 "nbformat": 4,
 "nbformat_minor": 2
}
