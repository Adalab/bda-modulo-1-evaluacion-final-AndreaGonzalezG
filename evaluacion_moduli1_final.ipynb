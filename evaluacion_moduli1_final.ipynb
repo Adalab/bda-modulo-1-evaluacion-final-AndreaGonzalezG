{
 "cells": [
  {
   "cell_type": "code",
   "execution_count": 218,
   "metadata": {},
   "outputs": [],
   "source": [
    "#Importar re para el metodo 7\n",
    "import re\n",
    "\n",
    "# Creación de la Tienda Online utilizando clases\n",
    "\n",
    "class TiendaOnline :\n",
    "\n",
    "    #Atributos de la clase. No será necesario incluir los atributos como parámetros, ya que los siguientes métodos agregan la información\n",
    "    def __init__(self):\n",
    "        \n",
    "        # Atributo inventario, lista de diccionarios vacias con 3 keys\n",
    "        self.inventario = []\n",
    "\n",
    "        # Atributo clientes, diccionario 2 keys\n",
    "        self.clientes = {}\n",
    "\n",
    "        #Atributo ventas totales \n",
    "        self.ventas_totales = 0\n",
    "\n",
    "        # Método agregar un producto\n",
    "    def agregar_producto(self,nombre,precio,cantidad):\n",
    "\n",
    "        # Crear nuevas variables\n",
    "        self.nombre = str(nombre)\n",
    "        self.precio = float(precio)\n",
    "        self.cantidad = int(cantidad)\n",
    "\n",
    "            #Iteramos en la lista buscando un producto igual o sino agregarlo\n",
    "        for producto in self.inventario:\n",
    "\n",
    "            #  Si el producto esta en la lista actualizamos el inventario\n",
    "            if producto['nombre'] == self.nombre:\n",
    "                producto['cantidad']+=self.cantidad\n",
    "                return f'El inventario ha sido actualizado para el producto: {self.nombre} tienes {producto['cantidad']} unidades a {producto['precio']} euros'\n",
    "        \n",
    "         # Si el producto NO esta pedimos se agregue a la lista, definiendo las claves que seran solicitadas\n",
    "        nuevo_producto = {'nombre': self.nombre, 'precio': self.precio,'cantidad': self.cantidad}\n",
    "        self.inventario.append(nuevo_producto)\n",
    "        return f'El inventario ha sido actualizado se ha agregado producto: {self.nombre}, cantidad: {self.cantidad} unidades, precio: {self.precio} euros'\n",
    "            \n",
    "        # Método para ver productos en el inventario\n",
    "    def ver_inventario(self):\n",
    "            \n",
    "            # Creamos una lista vacia donde agregamos todos los producto, debe estar fuera del bucle para que me agregue todos  los productos.\n",
    "        informacion_total_productos = []\n",
    "        \n",
    "\n",
    "         # Iteramos por la lista con for  \n",
    "        for producto in self.inventario:\n",
    "\n",
    "            # Creamos una variable donde estará la información del producto\n",
    "            informacion_producto= f\"Nombre:{producto['nombre']}, Precio:{producto['precio']}, Cantidad:{producto['cantidad']}\"\n",
    "    \n",
    "            # Adición de la información del producto a la lista\n",
    "            informacion_total_productos.append(informacion_producto)\n",
    "\n",
    "        # El resultado lo convierto a string \n",
    "        string_resultado = '\\n'.join(informacion_total_productos)\n",
    "        return  string_resultado\n",
    "    \n",
    "        # Método buscar productos\n",
    "    def buscar_productos (self,nombre):\n",
    "\n",
    "        # Iteramos por la lista buscando si el producto se encuentra\n",
    "        for producto in self.inventario:\n",
    "\n",
    "            # Si el producto esta en el inventario se muestra la informacion sobre el producto\n",
    "            if nombre == producto['nombre']:\n",
    "                    return f\"Nombre:{producto['nombre']}, Precio:{producto['precio']} euros , Cantidad:{producto['cantidad']} unidades\"\n",
    "            \n",
    "            \n",
    "        # si no se encuentra, informamos que no esta en el inventario    \n",
    "        return'El producto que buscas no se encuentra en el inventario'\n",
    "\n",
    "\n",
    "        # Método actualizar inventario \n",
    "\n",
    "    def actualizar_stock(self, nombre, cantidad):\n",
    "\n",
    "        # Iteramos por la lista buscando el proucto\n",
    "        for producto in self.inventario:\n",
    "            \n",
    "            # Si el producto esta, quiero que actualice el valor de la cantidad\n",
    "            if nombre == producto['nombre']:\n",
    "                producto['cantidad'] = cantidad\n",
    "                return 'Tu inventario ha sido actualizado' \n",
    "            \n",
    "        #Si no se encuentra le entrego un mensaje al usuario \n",
    "           \n",
    "        return 'El producto no se encuentra en la bases de datos del inventario, si deseas puedes agregarlo'\n",
    "    \n",
    "       \n",
    "        #Método eliminar producto\n",
    "\n",
    "    def eliminar_producto(self,nombre):\n",
    "\n",
    "        # Iteramos por la lista buscando el proucto\n",
    "        for producto in self.inventario:\n",
    "\n",
    "            # Si se encuentra lo quitamos con el metodo remove para las listas\n",
    "            if nombre == producto['nombre']:\n",
    "                \n",
    "                # Quitamos el producto, garantizando que se elimine todo el diccionario\n",
    "                self.inventario.remove(producto)\n",
    "                return f\"El producto Nombre:{producto['nombre']} ha sido eliminado\"\n",
    "\n",
    "\n",
    "                # Si no se encuentra informamos al usuario\n",
    "            \n",
    "        return \"El producto no se encuentra en la bases de datos del inventario, si deseas puedes agregarlo\"\n",
    "    \n",
    "\n",
    "\n",
    "        # Método calcular valor inventario\n",
    "\n",
    "    def calcular_valor_inventario(self):\n",
    "\n",
    "        # Primero creo lista donde agrego valor por producto. La lista debe estar por fuera del bucle para que sume todas los productos\n",
    "        valores_inventario=[]\n",
    "\n",
    "        # Iteramos por la lista buscando el producto\n",
    "        for producto in self.inventario:\n",
    "            \n",
    "            # Conocemos el valor de cada producto \n",
    "            valor_por_producto = producto['cantidad']* producto['precio']\n",
    "            #Agrego el valor a la lista vacia\n",
    "            valores_inventario.append(valor_por_producto)\n",
    "\n",
    "    # Sumatoria inventario\n",
    "        valor_total= sum(valores_inventario)\n",
    "        return f' El valor total del inventario es: {valor_total}'\n",
    "    \n",
    "\n",
    "        # Método buscar producto utilizando regex. Primero importamos re al inicio de la clase\n",
    "    def buscar_producto_regex (self,patron):\n",
    "\n",
    "        # Iteramos por la lista buscando productos que coincidan con el patron\n",
    "        for producto in self.inventario:\n",
    "\n",
    "            # Utilizo el metodo re.findall para buscar si hay alguna coincidencia entre los nombres de los productos y el patron. \n",
    "            # Utilizo re.findall ya que permite buscar por toda la cadena y me devuelve una lista con las coincidencias\n",
    "            lista_producto_encontrado= re.findall(patron,producto['nombre'])\n",
    "\n",
    "            return lista_producto_encontrado\n",
    "        \n",
    "    # Método compra\n",
    "    def realizar_compra (self):\n",
    "\n",
    "        # definimos una condicion inicial para el bucle while\n",
    "        condicion= True\n",
    "\n",
    "        # Necesito saber productos que estan en el inventario para incluirlo en la interaccion con usuario. Utilizo una list comprehension\n",
    "        productos_inventario = [producto['nombre'] for producto in self.inventario] \n",
    "        string_productos_inventario = '\\n'.join(productos_inventario)\n",
    "\n",
    "        # Lista vacia con canasta de compra\n",
    "        carrito_compra=[]\n",
    "        \n",
    "        # Lista para agregar el costo total para cada producto\n",
    "        costo_total_productos= []\n",
    "\n",
    "\n",
    "        # Inicio el bucle while\n",
    "\n",
    "        while condicion:\n",
    "            # Pregunta al usuario por el producto que desea comprar \n",
    "            producto_seleccionado= str(input(f'Escribe el producto que deseas comprar. Lista de productos\\n{string_productos_inventario}')).lower()\n",
    "             # Cantidad de producto\n",
    "            cantidad_producto= int(input('Escribe la cantidad que deseas comprar'))\n",
    "\n",
    "\n",
    "            # Verificamos que el producto este en el inventario\n",
    "\n",
    "            for producto in self.inventario:\n",
    "                if producto_seleccionado == producto['nombre']:\n",
    "                    # Reviso que tenga suficiente cantidad en el inventario\n",
    "                    if producto['cantidad'] > cantidad_producto:\n",
    "\n",
    "                        # Incluyo producto al carrito como diccionario para saber productos-cantidades\n",
    "\n",
    "                        carrito_compra.append({producto_seleccionado:cantidad_producto})\n",
    "\n",
    "                        #Actualizo el inventario\n",
    "                        producto['cantidad']-= cantidad_producto\n",
    "\n",
    "                        #Calculo el costo de producto que alojaré en una lista vacia \n",
    "                        costo_producto= cantidad_producto * producto['precio']\n",
    "\n",
    "                        costo_total_productos.append(costo_producto)\n",
    "\n",
    "                        print (f\"Producto seleccionado: {producto_seleccionado}, unidades: {cantidad_producto}\")\n",
    "                        print(f\"Carrito de compra: {carrito_compra}\")\n",
    "\n",
    "\n",
    "                    else:\n",
    "                        print(' No hay suficientes unidades de ese producto, elige una cantidad menor de unidades')\n",
    "                    break # Agrego un break para parar de buscar el producto\n",
    "                \n",
    "            else: print (f'El producto: {producto_seleccionado} no se encuentra en el inventario')\n",
    "    \n",
    "\n",
    "            # preguntar si desea seguir comprando  \n",
    "            seguir_comprando=(input(f'¿Deseas seguir comprando?. Escribe si o no')).lower()\n",
    "            if seguir_comprando=='no':\n",
    "                condicion = False \n",
    "                \n",
    "        # Calculo valor total. \n",
    "        total= sum(costo_total_productos)\n",
    "        return f'Carrito de compras:{carrito_compra}. Total: {total}'\n",
    "    \n",
    "    # Método procesar pago\n",
    "    \n",
    "    def procesar_pago(self):\n",
    "\n",
    "        #Iniciamos el ciclo, con while True \n",
    "        while True:\n",
    "\n",
    "            # Intentaremos hacer el pago, utilizando try\n",
    "\n",
    "            try:\n",
    "                # Preguntar al usuario valor total de compra\n",
    "                valor_compra= float(input('Escribe el valor total de la compra'))\n",
    "                # Preguntar valor total a pagar\n",
    "                valor_pagar= float(input('Escribe el valor a pagar'))\n",
    "            \n",
    "                # Comprobamos que el valor a pagar sea mayor \n",
    "                if valor_pagar >= valor_compra:\n",
    "                    valor_cambio = valor_pagar - valor_compra\n",
    "                    return f\"Pago realizado con exito. Tu cambio es {valor_cambio} euros\"\n",
    "                else:\n",
    "                    print(f\"Error: ValueError. Por favor, introduce un número válido o asegúrate de que el valor a pagar sea suficiente.\")\n",
    "\n",
    "                # Agregamos la excepcion para manejo de errores en caso de que el monto sea insuficiente\n",
    "            except ValueError:\n",
    "        \n",
    "                print(f\"Error: ValueError. Por favor, introduce un número válido o asegúrate de que el valor a pagar sea suficiente.\")\n",
    "\n",
    "            # Preguntar si desea intentar de nuevo\n",
    "            intentar_de_nuevo = input(\"¿Quieres intentar de nuevo? (si/no): \").lower()\n",
    "            if intentar_de_nuevo != 'si':\n",
    "                return \"Pago cancelado.\"\n",
    "            \n",
    "    # Método agregar cliente\n",
    "\n",
    "    def agregar_cliente(self,nombre,email):\n",
    "\n",
    "        # Crear nuevas variables de nombre e email\n",
    "        self.nombre_cliente = str(nombre)\n",
    "        self.email_cliente = str(email)\n",
    "\n",
    "        # Verificar si el cliente esta en el diccionario. Si NO esta lo agregamos \n",
    "        if self.nombre_cliente not in self.clientes:\n",
    "                \n",
    "                #Al ser un diccionario lo agregamos con indexacion, key-value\n",
    "                self.clientes[self.nombre_cliente]=self.email_cliente\n",
    "        else:\n",
    "            # Si ya esta en la base de datos avisamos que ya tenemos este cliente en la BBDD\n",
    "            print(f'El cliente {self.nombre_cliente} ya se encuentra en tu base de datos')\n",
    "        \n",
    "        return f'La base de datos de clientes ha sido actualizado se ha agregado Cliente: {self.nombre_cliente}. Email: {self.email_cliente}'\n",
    "\n",
    "    #Método ver clientes\n",
    "\n",
    "    def ver_clientes(self):\n",
    "    \n",
    "         # Iteramos por el diccionario para recorrer la base de datos \n",
    "        for cliente in self.clientes:\n",
    "\n",
    "            # Creo una list comprehension para obtener la informacion de  los clientes\n",
    "           informacion_clientes = [f\"Nombre:{nombre}. Email: {email}\" for nombre,email in self.clientes.items()] \n",
    "\n",
    "            # El resultado lo convierto a string \n",
    "        string_cliente = '\\n'.join(informacion_clientes)\n",
    "            \n",
    "        return  string_cliente\n",
    "\n",
    "    # Método Registrar compra\n",
    "    def registrar_compra (self,nombre_cliente, )\n",
    "    \n",
    "\n",
    "\n",
    "\n"
   ]
  },
  {
   "cell_type": "markdown",
   "metadata": {},
   "source": [
    "## Prueba"
   ]
  },
  {
   "cell_type": "code",
   "execution_count": 219,
   "metadata": {},
   "outputs": [],
   "source": [
    "productos= TiendaOnline()"
   ]
  },
  {
   "cell_type": "code",
   "execution_count": 220,
   "metadata": {},
   "outputs": [
    {
     "data": {
      "text/plain": [
       "'El inventario ha sido actualizado se ha agregado producto: libreta, cantidad: 20 unidades, precio: 10.0 euros'"
      ]
     },
     "execution_count": 220,
     "metadata": {},
     "output_type": "execute_result"
    }
   ],
   "source": [
    "productos.agregar_producto('libreta',10, 20)"
   ]
  },
  {
   "cell_type": "code",
   "execution_count": 221,
   "metadata": {},
   "outputs": [
    {
     "data": {
      "text/plain": [
       "'El inventario ha sido actualizado se ha agregado producto: colores, cantidad: 50 unidades, precio: 15.0 euros'"
      ]
     },
     "execution_count": 221,
     "metadata": {},
     "output_type": "execute_result"
    }
   ],
   "source": [
    "productos.agregar_producto('colores',15, 50)"
   ]
  },
  {
   "cell_type": "code",
   "execution_count": 222,
   "metadata": {},
   "outputs": [
    {
     "data": {
      "text/plain": [
       "'El inventario ha sido actualizado se ha agregado producto: folder, cantidad: 10 unidades, precio: 12.0 euros'"
      ]
     },
     "execution_count": 222,
     "metadata": {},
     "output_type": "execute_result"
    }
   ],
   "source": [
    "productos.agregar_producto('folder',12, 10)"
   ]
  },
  {
   "cell_type": "code",
   "execution_count": 223,
   "metadata": {},
   "outputs": [
    {
     "name": "stdout",
     "output_type": "stream",
     "text": [
      "Nombre:libreta, Precio:10.0, Cantidad:20\n",
      "Nombre:colores, Precio:15.0, Cantidad:50\n",
      "Nombre:folder, Precio:12.0, Cantidad:10\n"
     ]
    }
   ],
   "source": [
    "print(productos.ver_inventario())"
   ]
  },
  {
   "cell_type": "code",
   "execution_count": 224,
   "metadata": {},
   "outputs": [
    {
     "data": {
      "text/plain": [
       "'Nombre:colores, Precio:15.0 euros , Cantidad:50 unidades'"
      ]
     },
     "execution_count": 224,
     "metadata": {},
     "output_type": "execute_result"
    }
   ],
   "source": [
    "productos.buscar_productos('colores')\n",
    "\n"
   ]
  },
  {
   "cell_type": "code",
   "execution_count": 225,
   "metadata": {},
   "outputs": [
    {
     "data": {
      "text/plain": [
       "'Tu inventario ha sido actualizado'"
      ]
     },
     "execution_count": 225,
     "metadata": {},
     "output_type": "execute_result"
    }
   ],
   "source": [
    "productos.actualizar_stock('colores',40)"
   ]
  },
  {
   "cell_type": "code",
   "execution_count": 226,
   "metadata": {},
   "outputs": [
    {
     "data": {
      "text/plain": [
       "'El producto Nombre:libreta ha sido eliminado'"
      ]
     },
     "execution_count": 226,
     "metadata": {},
     "output_type": "execute_result"
    }
   ],
   "source": [
    "productos.eliminar_producto('libreta')"
   ]
  },
  {
   "cell_type": "code",
   "execution_count": 227,
   "metadata": {},
   "outputs": [
    {
     "data": {
      "text/plain": [
       "' El valor total del inventario es: 720.0'"
      ]
     },
     "execution_count": 227,
     "metadata": {},
     "output_type": "execute_result"
    }
   ],
   "source": [
    "productos.calcular_valor_inventario()"
   ]
  },
  {
   "cell_type": "code",
   "execution_count": 228,
   "metadata": {},
   "outputs": [
    {
     "data": {
      "text/plain": [
       "['colores']"
      ]
     },
     "execution_count": 228,
     "metadata": {},
     "output_type": "execute_result"
    }
   ],
   "source": [
    "productos.buscar_producto_regex(r'\\bcolores\\b')"
   ]
  },
  {
   "cell_type": "code",
   "execution_count": 229,
   "metadata": {},
   "outputs": [],
   "source": [
    "#productos.realizar_compra()"
   ]
  },
  {
   "cell_type": "code",
   "execution_count": 230,
   "metadata": {},
   "outputs": [
    {
     "name": "stdout",
     "output_type": "stream",
     "text": [
      "Nombre:colores, Precio:15.0, Cantidad:40\n",
      "Nombre:folder, Precio:12.0, Cantidad:10\n"
     ]
    }
   ],
   "source": [
    "print(productos.ver_inventario())"
   ]
  },
  {
   "cell_type": "code",
   "execution_count": 231,
   "metadata": {},
   "outputs": [],
   "source": [
    "#productos.procesar_pago()"
   ]
  },
  {
   "cell_type": "code",
   "execution_count": 232,
   "metadata": {},
   "outputs": [
    {
     "data": {
      "text/plain": [
       "'La base de datos de clientes ha sido actualizado se ha agregado Cliente: Martin. Email: martin@gmail.com'"
      ]
     },
     "execution_count": 232,
     "metadata": {},
     "output_type": "execute_result"
    }
   ],
   "source": [
    "productos.agregar_cliente('Martin','martin@gmail.com')"
   ]
  },
  {
   "cell_type": "code",
   "execution_count": 233,
   "metadata": {},
   "outputs": [
    {
     "data": {
      "text/plain": [
       "'La base de datos de clientes ha sido actualizado se ha agregado Cliente: Camila. Email: camila@gmail.com'"
      ]
     },
     "execution_count": 233,
     "metadata": {},
     "output_type": "execute_result"
    }
   ],
   "source": [
    "productos.agregar_cliente('Camila','camila@gmail.com')"
   ]
  },
  {
   "cell_type": "code",
   "execution_count": 235,
   "metadata": {},
   "outputs": [
    {
     "name": "stdout",
     "output_type": "stream",
     "text": [
      "Nombre:Martin. Email: martin@gmail.com\n",
      "Nombre:Camila. Email: camila@gmail.com\n"
     ]
    }
   ],
   "source": [
    "print(productos.ver_clientes())"
   ]
  }
 ],
 "metadata": {
  "kernelspec": {
   "display_name": "base",
   "language": "python",
   "name": "python3"
  },
  "language_info": {
   "codemirror_mode": {
    "name": "ipython",
    "version": 3
   },
   "file_extension": ".py",
   "mimetype": "text/x-python",
   "name": "python",
   "nbconvert_exporter": "python",
   "pygments_lexer": "ipython3",
   "version": "3.12.4"
  }
 },
 "nbformat": 4,
 "nbformat_minor": 2
}
