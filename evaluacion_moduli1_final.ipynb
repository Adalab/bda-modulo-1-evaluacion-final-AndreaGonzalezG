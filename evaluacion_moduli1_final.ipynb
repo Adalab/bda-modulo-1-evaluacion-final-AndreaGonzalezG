{
 "cells": [
  {
   "cell_type": "code",
   "execution_count": null,
   "metadata": {},
   "outputs": [],
   "source": [
    "# Creación de la Tienda Online utilizando clases\n",
    "\n",
    "class TiendaOnline :\n",
    "\n",
    "    #Atributos de la clase\n",
    "    def __init__(self,inventario, clientes,ventas_totales):\n",
    "        \n",
    "        # Atributo inventario, lista de diccionarios vacias con 3 keys\n",
    "        inventario = [{ },{ }]\n",
    "        self.inventario = inventario\n",
    "\n",
    "        # Atributo clientes, diccionario 2 keys\n",
    "        clientes= {}\n",
    "        self.clientes = clientes\n",
    "\n",
    "        #Atributo ventas totales \n",
    "        ventas_totales=0\n",
    "        self.ventas_totales = ventas_totales\n",
    "\n",
    "        # Método agregar un producto\n",
    "    def agregar_producto(self,nombre,precio,cantidad_nueva):\n",
    "\n",
    "           #Iteramos en la lista para ver si ya hay un producto igual \n",
    "        for producto in self.inventario:\n",
    "            # Verificar si esta en el diccionario. Si esta agrega la nueva cantidad al inventario\n",
    "            if self.inventario['nombre'] == nombre:\n",
    "                self.inventario['cantidad']+=cantidad_nueva\n",
    "\n",
    "                return f'El inventario ha sido actualizado para el producto {self.nombre} tienes {self.cantidad} unidades'\n",
    "                \n",
    "                # Si el producto no esta pedimos se agregue a la lista, definiendo las claves que seran solicitadas\n",
    "            else: \n",
    "                nuevo_producto = {'nombre': nombre, 'precio':precio,'cantidad': cantidad_nueva}\n",
    "                self.inventario.append(nuevo_producto)\n",
    "                return f'El inventario ha sido actualizado se ha agregado el producto: {self.nombre} con  {self.cantidad} unidades y un valor {self.precio}'\n",
    "\n",
    "    \n",
    "\n"
   ]
  },
  {
   "cell_type": "code",
   "execution_count": null,
   "metadata": {},
   "outputs": [],
   "source": [
    "[{'nombre':0,'precio':0,'cantidad':0 },{'nombre':0,'precio':0,'cantidad':0 }]\n",
    "{'nombre':0,'email':0}"
   ]
  }
 ],
 "metadata": {
  "kernelspec": {
   "display_name": "base",
   "language": "python",
   "name": "python3"
  },
  "language_info": {
   "name": "python",
   "version": "3.12.4"
  }
 },
 "nbformat": 4,
 "nbformat_minor": 2
}
