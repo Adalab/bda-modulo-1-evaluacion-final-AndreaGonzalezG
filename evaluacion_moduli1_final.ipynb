{
 "cells": [
  {
   "cell_type": "code",
   "execution_count": 115,
   "metadata": {},
   "outputs": [],
   "source": [
    "#Importar re para el metodo 7\n",
    "import re\n",
    "\n",
    "# Creación de la Tienda Online utilizando clases\n",
    "\n",
    "class TiendaOnline :\n",
    "\n",
    "    #Atributos de la clase. No será necesario incluir los atributos como parámetros, ya que los siguientes métodos agregan la información\n",
    "    def __init__(self):\n",
    "        \n",
    "        # Atributo inventario, lista de diccionarios vacias con 3 keys\n",
    "        self.inventario = []\n",
    "\n",
    "        # Atributo clientes, diccionario 2 keys\n",
    "        self.clientes = {}\n",
    "\n",
    "        #Atributo ventas totales \n",
    "        self.ventas_totales = 0\n",
    "\n",
    "        # Método agregar un producto\n",
    "    def agregar_producto(self,nombre,precio,cantidad):\n",
    "\n",
    "        # Crear nuevas variables\n",
    "        self.nombre = str(nombre)\n",
    "        self.precio = float(precio)\n",
    "        self.cantidad = int(cantidad)\n",
    "\n",
    "            #Iteramos en la lista para ver si ya hay un producto igual \n",
    "        for producto in self.inventario:\n",
    "\n",
    "            # Verificar si esta en el diccionario. Si esta agrega la nueva cantidad al inventario\n",
    "            if producto['nombre'] == self.nombre:\n",
    "                producto['cantidad']+=self.cantidad\n",
    "                return f'El inventario ha sido actualizado para el producto: {self.nombre} tienes {producto['cantidad']} unidades a {producto['precio']} euros'\n",
    "        \n",
    "         # Si el producto no esta pedimos se agregue a la lista, definiendo las claves que seran solicitadas\n",
    "        nuevo_producto = {'nombre': self.nombre, 'precio': self.precio,'cantidad': self.cantidad}\n",
    "        self.inventario.append(nuevo_producto)\n",
    "        return f'El inventario ha sido actualizado se ha agregado producto: {self.nombre}, cantidad: {self.cantidad} unidades, precio: {self.precio} euros'\n",
    "            \n",
    "        # Método para ver productos en el inventario\n",
    "    def ver_inventario(self):\n",
    "            \n",
    "            # Creamos una lista vacia donde agregamos todos los producto, debe estar fuera del bucle para que me agregue todos  los productos.\n",
    "        informacion_total_productos = []\n",
    "        \n",
    "\n",
    "         # Iteramos por la lista con for  \n",
    "        for producto in self.inventario:\n",
    "\n",
    "            # Creamos una variable donde estará la información del producto\n",
    "            informacion_producto= f\"Nombre:{producto['nombre']}, Precio:{producto['precio']}, Cantidad:{producto['cantidad']}\"\n",
    "    \n",
    "            # Adición de la información del producto a la lista\n",
    "            informacion_total_productos.append(informacion_producto)\n",
    "\n",
    "        # El resultado lo convierto a string \n",
    "        string_resultado = '\\n'.join(informacion_total_productos)\n",
    "        return  string_resultado\n",
    "    \n",
    "        # Método buscar productos\n",
    "    def buscar_productos (self,nombre):\n",
    "\n",
    "        self.nombre= str(nombre)\n",
    "\n",
    "        # Iteramos por la lista buscando si el producto se encuentra\n",
    "        for producto in self.inventario:\n",
    "\n",
    "            # Si el producto esta en el inventario se muestra la informacion sobre el producto\n",
    "            if self.nombre == producto['nombre']:\n",
    "                print(f\"Nombre:{producto['nombre']}, Precio:{producto['precio']}, Cantidad:{producto['cantidad']}\")\n",
    "            \n",
    "            # si no se encuentra, informamos que no esta en el inventario\n",
    "            else: \n",
    "                print('El producto que buscas no se encuentra en el inventario')\n",
    "\n",
    "        # Método actualizar inventario \n",
    "\n",
    "    def actualizar_stock(self, nombre, cantidad):\n",
    "\n",
    "        # Iteramos por la lista buscando el proucto\n",
    "        for producto in self.inventario:\n",
    "            \n",
    "            # Si el producto esta, quiero que actualice el valor de la cantidad\n",
    "            if nombre == producto['nombre']:\n",
    "                producto['cantidad'] = cantidad\n",
    "                return 'Tu inventario ha sido actualizado' \n",
    "            \n",
    "                #Si no se encuentra le entrego un mensaje al usuario \n",
    "            else: \n",
    "                return 'El producto no se encuentra en la bases de datos del inventario, si deseas puedes agregarlo'\n",
    "    \n",
    "       \n",
    "        #Método eliminar producto\n",
    "\n",
    "    def eliminar_producto(self,nombre):\n",
    "\n",
    "        # Iteramos por la lista buscando el proucto\n",
    "        for producto in self.inventario:\n",
    "\n",
    "            # Si se encuentra lo quitamos con el metodo remove para las listas\n",
    "            if nombre == producto['nombre']:\n",
    "                self.inventario.remove(nombre)\n",
    "                print (f'El producto Nombre:{producto['nombre']} ha sido eliminado')\n",
    "\n",
    "                # Si no se encuentra informamos al usuario\n",
    "            else: \n",
    "                return 'El producto no se encuentra en la bases de datos del inventario, si deseas puedes agregarlo'\n",
    "    \n",
    "\n",
    "\n",
    "        # Método calcular valor inventario\n",
    "\n",
    "    def calcular_valor_inventario(self):\n",
    "\n",
    "        # Iteramos por la lista buscando el proucto\n",
    "        for producto in self.inventario:\n",
    "\n",
    "            # Primero creo una variable donde iré sumando el valor por producto.El valor inicia con cero\n",
    "            valor_total_inventario=0\n",
    "            # Conocemos el valor de cada producto \n",
    "            valor_por_producto = producto['cantidad']* producto['precio']\n",
    "            valor_total_inventario += valor_por_producto\n",
    "\n",
    "            # Entregamos valor total del inventario\n",
    "\n",
    "            return f' El valor total del inventario es: {valor_total_inventario}'\n",
    "    \n",
    "\n",
    "        # Método buscar producto utilizando regex. Primero importamos re al inicio de la clase\n",
    "    def buscar_producto_regex (self,patron):\n",
    "\n",
    "        # Iteramos por la lista buscando productos que coincidan con el patron\n",
    "        for producto in self.inventario:\n",
    "\n",
    "            # Utilizo el metodo re.findall para buscar si hay alguna coincidencia entre los nombres de los productos y el patron. \n",
    "            # Utilizo re.findall ya que permite buscar por toda la cadena y me devuelve una lista con las coincidencias\n",
    "            lista_producto_encontrado= re.findall(patron,producto['nombre'])\n",
    "\n",
    "            return lista_producto_encontrado\n",
    "        \n",
    "    # Método compra\n",
    "    def realizar_compra (self):\n",
    "        # definimos una condicion inicial para el bucle while\n",
    "        condicion=False\n",
    "\n",
    "        # Necesito saber productos que estan en el inventario para incluirlo en la interaccion con usuario\n",
    "        productos_inventario = [producto['nombre'] for producto in self.inventario] \n",
    "        string_productos_inventario = '\\n'.join(productos_inventario)\n",
    "\n",
    "        # Lista vacia con canasta de compra\n",
    "        carrito_compra=[]\n",
    "\n",
    "        # Inicio el bucle while\n",
    "\n",
    "        while condicion:\n",
    "            # Pregunta al usuario por el producto que desea comprar \n",
    "            seleccion_producto= str(input(f'Escribe el producto que deseas comprar. Lista de productos{string_productos_inventario}')).lower()\n",
    "            \n",
    "            # Cantidad de producto\n",
    "            cantidad_producto= int(input('Escribe la cantidad que deseas comprar'))\n",
    "\n",
    "            # Si esta el producto en el inventario mostramos el carrito\n",
    "            if seleccion_producto in self.inventario:\n",
    "\n",
    "                # Creo variable con producto de compra\n",
    "                producto_comprar= f'Producto {seleccion_producto}, unidades: {cantidad_producto}'\n",
    "\n",
    "                # Incluyo producto al carrito\n",
    "                carrito_compra.append(producto_comprar)\n",
    "                print(f'Carrito de compra: {carrito_compra}')\n",
    "\n",
    "                # preguntar si desea seguir comprando \n",
    "                seguir_comprando=(input(f'¿Deseas seguir comprando?. Escribe si o no')).lower()\n",
    "\n",
    "                if seguir_comprando == 'si':\n",
    "                    seleccion_producto= str(input(f'Escribe el producto que deseas comprar. Lista de productos{string_productos_inventario}')).lower()\n",
    "                else:\n",
    "                    condicion = False  \n",
    "\n",
    "            else:\n",
    "                print('El articulo no esta en el inventario')\n",
    "                condicion = False       \n",
    "\n"
   ]
  },
  {
   "cell_type": "markdown",
   "metadata": {},
   "source": [
    "## Prueba"
   ]
  },
  {
   "cell_type": "code",
   "execution_count": 116,
   "metadata": {},
   "outputs": [],
   "source": [
    "producto1= TiendaOnline()"
   ]
  },
  {
   "cell_type": "code",
   "execution_count": 117,
   "metadata": {},
   "outputs": [
    {
     "data": {
      "text/plain": [
       "'El inventario ha sido actualizado se ha agregado producto: libreta, cantidad: 20 unidades, precio: 10.0 euros'"
      ]
     },
     "execution_count": 117,
     "metadata": {},
     "output_type": "execute_result"
    }
   ],
   "source": [
    "producto1.agregar_producto('libreta',10, 20)\n",
    "\n"
   ]
  },
  {
   "cell_type": "code",
   "execution_count": 118,
   "metadata": {},
   "outputs": [
    {
     "data": {
      "text/plain": [
       "'El inventario ha sido actualizado se ha agregado producto: colores, cantidad: 50 unidades, precio: 15.0 euros'"
      ]
     },
     "execution_count": 118,
     "metadata": {},
     "output_type": "execute_result"
    }
   ],
   "source": [
    "producto1.agregar_producto('colores',15, 50)"
   ]
  },
  {
   "cell_type": "code",
   "execution_count": 119,
   "metadata": {},
   "outputs": [
    {
     "name": "stdout",
     "output_type": "stream",
     "text": [
      "Nombre:libreta, Precio:10.0, Cantidad:20\n",
      "Nombre:colores, Precio:15.0, Cantidad:50\n"
     ]
    }
   ],
   "source": [
    "print(producto1.ver_inventario())"
   ]
  }
 ],
 "metadata": {
  "kernelspec": {
   "display_name": "base",
   "language": "python",
   "name": "python3"
  },
  "language_info": {
   "codemirror_mode": {
    "name": "ipython",
    "version": 3
   },
   "file_extension": ".py",
   "mimetype": "text/x-python",
   "name": "python",
   "nbconvert_exporter": "python",
   "pygments_lexer": "ipython3",
   "version": "3.12.4"
  }
 },
 "nbformat": 4,
 "nbformat_minor": 2
}
