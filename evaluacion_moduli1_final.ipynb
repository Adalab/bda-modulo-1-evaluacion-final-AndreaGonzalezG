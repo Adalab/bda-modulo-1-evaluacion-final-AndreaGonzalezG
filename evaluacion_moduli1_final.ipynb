{
 "cells": [
  {
   "cell_type": "code",
   "execution_count": null,
   "metadata": {},
   "outputs": [],
   "source": [
    "# Creación de la Tienda Online utilizando clases\n",
    "\n",
    "class TiendaOnline :\n",
    "\n",
    "    #Atributos de la clase. No será necesario incluir los atributos como parámetros, ya que los siguientes métodos agregan la información\n",
    "    def __init__(self):\n",
    "        \n",
    "        # Atributo inventario, lista de diccionarios vacias con 3 keys\n",
    "        self.inventario = []\n",
    "\n",
    "        # Atributo clientes, diccionario 2 keys\n",
    "        self.clientes = {}\n",
    "\n",
    "        #Atributo ventas totales \n",
    "        self.ventas_totales = 0\n",
    "\n",
    "        # Método agregar un producto\n",
    "    def agregar_producto(self,nombre,precio,cantidad_nueva):\n",
    "\n",
    "           #Iteramos en la lista para ver si ya hay un producto igual \n",
    "        for producto in self.inventario:\n",
    "            # Verificar si esta en el diccionario. Si esta agrega la nueva cantidad al inventario\n",
    "            if self.inventario['nombre'] == nombre:\n",
    "                self.inventario['cantidad']+=cantidad_nueva\n",
    "\n",
    "                return f'El inventario ha sido actualizado para el producto {self.nombre} tienes {self.cantidad} unidades'\n",
    "                \n",
    "                # Si el producto no esta pedimos se agregue a la lista, definiendo las claves que seran solicitadas\n",
    "            else: \n",
    "                nuevo_producto = {'nombre': nombre, 'precio':precio,'cantidad': cantidad_nueva}\n",
    "                self.inventario.append(nuevo_producto)\n",
    "                return f'El inventario ha sido actualizado se ha agregado el producto: {self.nombre} con  {self.cantidad} unidades y un valor {self.precio}'\n",
    "            \n",
    "        # Método para ver productos en el inventario\n",
    "    def ver_inventario(self):\n",
    "\n",
    "         # Iteramos por la lista con for  \n",
    "        for producto in self.inventario.items():\n",
    "            # Creamos otra variable en format str donde agregaremos toda la informacion de cada producto\n",
    "            informacion_total_productos = ''\n",
    "\n",
    "            # Creamos una variable donde estará la información del producto\n",
    "            informacion_producto= f'Nombre:{self.inventario['nombre']}, Precio:{self.inventario['precio']}, Cantidad:{self.inventario['cantidad']}'\n",
    "    \n",
    "            # Adición de la información del producto\n",
    "            informacion_total_productos +=informacion_producto\n",
    "        return informacion_total_productos\n",
    "    \n",
    "    def buscar_productos (self,nombre):\n",
    "\n",
    "        # Iteramos por la lista buscando si el producto se encuentra\n",
    "        for nombre_producto in self.inventario:\n",
    "\n",
    "            # Si el producto se muestra la informacion \n",
    "            if nombre_producto == nombre:\n",
    "                print(f\"Nombre:{self.inventario['nombre']}, Precio:{self.inventario['precio']}, Cantidad:{self.inventario['cantidad']}\")\n",
    "            else: \n",
    "                print('El producto que buscas no se encuentra en el inventario')\n",
    "\n",
    "\n"
   ]
  },
  {
   "cell_type": "code",
   "execution_count": null,
   "metadata": {},
   "outputs": [],
   "source": [
    "#opcion 2 \n",
    "\n",
    "def ver_inventario(self):\n",
    "\n",
    "         # Iteramos por la lista con for  \n",
    "        for producto in self.inventario.items():\n",
    "            print (f\"'Nombre:{self.inventario['nombre']}, Precio:{self.inventario['precio']}, Cantidad:{self.inventario['cantidad']}\")\n",
    "    \n",
    "    "
   ]
  },
  {
   "cell_type": "code",
   "execution_count": null,
   "metadata": {},
   "outputs": [],
   "source": [
    "inventario:[{'nombre':0,'precio':0,'cantidad':0 },{'nombre':0,'precio':0,'cantidad':0 }]\n",
    "clientes:{'nombre':0,'email':0}"
   ]
  }
 ],
 "metadata": {
  "kernelspec": {
   "display_name": "base",
   "language": "python",
   "name": "python3"
  },
  "language_info": {
   "name": "python",
   "version": "3.12.4"
  }
 },
 "nbformat": 4,
 "nbformat_minor": 2
}
